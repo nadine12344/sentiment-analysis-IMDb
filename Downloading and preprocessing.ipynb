{
 "cells": [
  {
   "cell_type": "code",
   "execution_count": 1,
   "metadata": {
    "colab": {
     "base_uri": "https://localhost:8080/",
     "height": 17
    },
    "id": "mdcwpNe6FI2t",
    "outputId": "01678c4d-83e1-40f3-e280-9ec2401dbedf"
   },
   "outputs": [
    {
     "data": {
      "application/javascript": [
       "\n",
       "            setTimeout(function() {\n",
       "                var nbb_cell_id = 1;\n",
       "                var nbb_unformatted_code = \"%load_ext nb_black\\nimport pandas as pd\\nimport numpy as np\\nimport os\\nimport matplotlib.pyplot as plt\\nimport time\\n\\nplt.style.use(style=\\\"seaborn\\\")\\n%matplotlib inline\";\n",
       "                var nbb_formatted_code = \"%load_ext nb_black\\nimport pandas as pd\\nimport numpy as np\\nimport os\\nimport matplotlib.pyplot as plt\\nimport time\\n\\nplt.style.use(style=\\\"seaborn\\\")\\n%matplotlib inline\";\n",
       "                var nbb_cells = Jupyter.notebook.get_cells();\n",
       "                for (var i = 0; i < nbb_cells.length; ++i) {\n",
       "                    if (nbb_cells[i].input_prompt_number == nbb_cell_id) {\n",
       "                        if (nbb_cells[i].get_text() == nbb_unformatted_code) {\n",
       "                             nbb_cells[i].set_text(nbb_formatted_code);\n",
       "                        }\n",
       "                        break;\n",
       "                    }\n",
       "                }\n",
       "            }, 500);\n",
       "            "
      ],
      "text/plain": [
       "<IPython.core.display.Javascript object>"
      ]
     },
     "metadata": {},
     "output_type": "display_data"
    }
   ],
   "source": [
    "%load_ext nb_black\n",
    "import pandas as pd\n",
    "import numpy as np\n",
    "import os\n",
    "import matplotlib.pyplot as plt\n",
    "import time\n",
    "\n",
    "plt.style.use(style=\"seaborn\")\n",
    "%matplotlib inline"
   ]
  },
  {
   "cell_type": "code",
   "execution_count": 2,
   "metadata": {
    "colab": {
     "base_uri": "https://localhost:8080/",
     "height": 17
    },
    "id": "TEb0MF-pFI2u",
    "outputId": "ae4cfc5e-a742-4ab0-9ec8-a24c59b3784e"
   },
   "outputs": [
    {
     "data": {
      "application/javascript": [
       "\n",
       "            setTimeout(function() {\n",
       "                var nbb_cell_id = 2;\n",
       "                var nbb_unformatted_code = \"import urllib.request as req\\nimport tarfile\\nimport os\\n\\nurl = \\\"http://ai.stanford.edu/~amaas/data/sentiment/aclImdb_v1.tar.gz\\\"\\n\\nsave_file = \\\"aclImdb_v1.tar.gz\\\"\\nif not os.path.exists(save_file):\\n    req.urlretrieve(url, save_file)\\n\\nmovie_folder = \\\"aclImdb\\\"\\nif not os.path.exists(movie_folder):\\n    with tarfile.open(save_file) as tar:\\n        tar.extractall()\";\n",
       "                var nbb_formatted_code = \"import urllib.request as req\\nimport tarfile\\nimport os\\n\\nurl = \\\"http://ai.stanford.edu/~amaas/data/sentiment/aclImdb_v1.tar.gz\\\"\\n\\nsave_file = \\\"aclImdb_v1.tar.gz\\\"\\nif not os.path.exists(save_file):\\n    req.urlretrieve(url, save_file)\\n\\nmovie_folder = \\\"aclImdb\\\"\\nif not os.path.exists(movie_folder):\\n    with tarfile.open(save_file) as tar:\\n        tar.extractall()\";\n",
       "                var nbb_cells = Jupyter.notebook.get_cells();\n",
       "                for (var i = 0; i < nbb_cells.length; ++i) {\n",
       "                    if (nbb_cells[i].input_prompt_number == nbb_cell_id) {\n",
       "                        if (nbb_cells[i].get_text() == nbb_unformatted_code) {\n",
       "                             nbb_cells[i].set_text(nbb_formatted_code);\n",
       "                        }\n",
       "                        break;\n",
       "                    }\n",
       "                }\n",
       "            }, 500);\n",
       "            "
      ],
      "text/plain": [
       "<IPython.core.display.Javascript object>"
      ]
     },
     "metadata": {},
     "output_type": "display_data"
    }
   ],
   "source": [
    "import urllib.request as req\n",
    "import tarfile\n",
    "import os\n",
    "\n",
    "url = \"http://ai.stanford.edu/~amaas/data/sentiment/aclImdb_v1.tar.gz\"\n",
    "\n",
    "save_file = \"aclImdb_v1.tar.gz\"\n",
    "if not os.path.exists(save_file):\n",
    "    req.urlretrieve(url, save_file)\n",
    "\n",
    "movie_folder = \"aclImdb\"\n",
    "if not os.path.exists(movie_folder):\n",
    "    with tarfile.open(save_file) as tar:\n",
    "        tar.extractall()"
   ]
  },
  {
   "cell_type": "code",
   "execution_count": 3,
   "metadata": {},
   "outputs": [
    {
     "data": {
      "application/javascript": [
       "\n",
       "            setTimeout(function() {\n",
       "                var nbb_cell_id = 3;\n",
       "                var nbb_unformatted_code = \"def replace_contraction(text):\\n    contraction_patterns = [\\n        (r\\\"won\\\\'t\\\", \\\"will not\\\"),\\n        (r\\\"can\\\\'t\\\", \\\"can not\\\"),\\n        (r\\\"i\\\\'m\\\", \\\"i am\\\"),\\n        (r\\\"ain\\\\'t\\\", \\\"is not\\\"),\\n        (r\\\"(\\\\w+)\\\\'ll\\\", \\\"\\\\g<1> will\\\"),\\n        (r\\\"(\\\\w+)n\\\\'t\\\", \\\"\\\\g<1> not\\\"),\\n        (r\\\"(\\\\w+)\\\\'ve\\\", \\\"\\\\g<1> have\\\"),\\n        (r\\\"(\\\\w+)\\\\'s\\\", \\\"\\\\g<1> is\\\"),\\n        (r\\\"(\\\\w+)\\\\'re\\\", \\\"\\\\g<1> are\\\"),\\n        (r\\\"(\\\\w+)\\\\'d\\\", \\\"\\\\g<1> would\\\"),\\n        (r\\\"&\\\", \\\"and\\\"),\\n        (r\\\"dammit\\\", \\\"damn it\\\"),\\n        (r\\\"dont\\\", \\\"do not\\\"),\\n        (r\\\"wont\\\", \\\"will not\\\"),\\n        (r\\\"br\\\", \\\" \\\"),\\n        (r\\\"www\\\", \\\" \\\"),\\n        (r\\\"http\\\\S+\\\", \\\" \\\"),\\n        (r\\\"#(\\\\w+)\\\", \\\" \\\"),\\n        (r\\\"@(\\\\w+)\\\", \\\" \\\"),\\n        (r\\\"[^\\\\w\\\\s]\\\", \\\" \\\"),\\n    ]\\n\\n    patterns = [(re.compile(regex), repl) for (regex, repl) in contraction_patterns]\\n    for (pattern, repl) in patterns:\\n        (text, count) = re.subn(pattern, repl, text)\\n    return text\";\n",
       "                var nbb_formatted_code = \"def replace_contraction(text):\\n    contraction_patterns = [\\n        (r\\\"won\\\\'t\\\", \\\"will not\\\"),\\n        (r\\\"can\\\\'t\\\", \\\"can not\\\"),\\n        (r\\\"i\\\\'m\\\", \\\"i am\\\"),\\n        (r\\\"ain\\\\'t\\\", \\\"is not\\\"),\\n        (r\\\"(\\\\w+)\\\\'ll\\\", \\\"\\\\g<1> will\\\"),\\n        (r\\\"(\\\\w+)n\\\\'t\\\", \\\"\\\\g<1> not\\\"),\\n        (r\\\"(\\\\w+)\\\\'ve\\\", \\\"\\\\g<1> have\\\"),\\n        (r\\\"(\\\\w+)\\\\'s\\\", \\\"\\\\g<1> is\\\"),\\n        (r\\\"(\\\\w+)\\\\'re\\\", \\\"\\\\g<1> are\\\"),\\n        (r\\\"(\\\\w+)\\\\'d\\\", \\\"\\\\g<1> would\\\"),\\n        (r\\\"&\\\", \\\"and\\\"),\\n        (r\\\"dammit\\\", \\\"damn it\\\"),\\n        (r\\\"dont\\\", \\\"do not\\\"),\\n        (r\\\"wont\\\", \\\"will not\\\"),\\n        (r\\\"br\\\", \\\" \\\"),\\n        (r\\\"www\\\", \\\" \\\"),\\n        (r\\\"http\\\\S+\\\", \\\" \\\"),\\n        (r\\\"#(\\\\w+)\\\", \\\" \\\"),\\n        (r\\\"@(\\\\w+)\\\", \\\" \\\"),\\n        (r\\\"[^\\\\w\\\\s]\\\", \\\" \\\"),\\n    ]\\n\\n    patterns = [(re.compile(regex), repl) for (regex, repl) in contraction_patterns]\\n    for (pattern, repl) in patterns:\\n        (text, count) = re.subn(pattern, repl, text)\\n    return text\";\n",
       "                var nbb_cells = Jupyter.notebook.get_cells();\n",
       "                for (var i = 0; i < nbb_cells.length; ++i) {\n",
       "                    if (nbb_cells[i].input_prompt_number == nbb_cell_id) {\n",
       "                        if (nbb_cells[i].get_text() == nbb_unformatted_code) {\n",
       "                             nbb_cells[i].set_text(nbb_formatted_code);\n",
       "                        }\n",
       "                        break;\n",
       "                    }\n",
       "                }\n",
       "            }, 500);\n",
       "            "
      ],
      "text/plain": [
       "<IPython.core.display.Javascript object>"
      ]
     },
     "metadata": {},
     "output_type": "display_data"
    }
   ],
   "source": [
    "def replace_contraction(text):\n",
    "    contraction_patterns = [\n",
    "        (r\"won\\'t\", \"will not\"),\n",
    "        (r\"can\\'t\", \"can not\"),\n",
    "        (r\"i\\'m\", \"i am\"),\n",
    "        (r\"ain\\'t\", \"is not\"),\n",
    "        (r\"(\\w+)\\'ll\", \"\\g<1> will\"),\n",
    "        (r\"(\\w+)n\\'t\", \"\\g<1> not\"),\n",
    "        (r\"(\\w+)\\'ve\", \"\\g<1> have\"),\n",
    "        (r\"(\\w+)\\'s\", \"\\g<1> is\"),\n",
    "        (r\"(\\w+)\\'re\", \"\\g<1> are\"),\n",
    "        (r\"(\\w+)\\'d\", \"\\g<1> would\"),\n",
    "        (r\"&\", \"and\"),\n",
    "        (r\"dammit\", \"damn it\"),\n",
    "        (r\"dont\", \"do not\"),\n",
    "        (r\"wont\", \"will not\"),\n",
    "        (r\"br\", \" \"),\n",
    "        (r\"www\", \" \"),\n",
    "        (r\"http\\S+\", \" \"),\n",
    "        (r\"#(\\w+)\", \" \"),\n",
    "        (r\"@(\\w+)\", \" \"),\n",
    "        (r\"[^\\w\\s]\", \" \"),\n",
    "    ]\n",
    "\n",
    "    patterns = [(re.compile(regex), repl) for (regex, repl) in contraction_patterns]\n",
    "    for (pattern, repl) in patterns:\n",
    "        (text, count) = re.subn(pattern, repl, text)\n",
    "    return text"
   ]
  },
  {
   "cell_type": "code",
   "execution_count": 4,
   "metadata": {
    "colab": {
     "base_uri": "https://localhost:8080/",
     "height": 51
    },
    "id": "eAB6JVYxFI2w",
    "outputId": "e28ac00c-1e09-4053-e8c4-2cbb8ba17b32"
   },
   "outputs": [
    {
     "name": "stdout",
     "output_type": "stream",
     "text": [
      "showing info https://raw.githubusercontent.com/nltk/nltk_data/gh-pages/index.xml\n"
     ]
    },
    {
     "data": {
      "application/javascript": [
       "\n",
       "            setTimeout(function() {\n",
       "                var nbb_cell_id = 4;\n",
       "                var nbb_unformatted_code = \"import numpy as np\\nimport re\\nimport nltk\\nimport contractions\\nfrom bs4 import BeautifulSoup\\n\\nnltk.download()\\n\\n\\ndef retrieve_reviews(data_folder=\\\"/train\\\"):\\n    movie_reviews = []\\n    before = []\\n    sentiments = []\\n    for s in (\\\"/test\\\", \\\"/train\\\"):\\n        for index, sentiment in enumerate([\\\"/neg/\\\", \\\"/pos/\\\"]):\\n            directory = movie_folder + s + sentiment\\n            for filename in sorted(os.listdir(directory)):\\n                with open(directory + filename, \\\"r\\\") as f:\\n                    txt = f.read()\\n                    before.append(txt)\\n                    txt = txt.lower()\\n                    txt = BeautifulSoup(txt, \\\"html.parser\\\").text\\n                    txt = replace_contraction(txt)\\n                    txt = re.sub(r\\\"[^a-z ]\\\", \\\"\\\", txt)\\n                    txt = re.sub(r\\\" +\\\", \\\" \\\", txt)\\n                    # remove extra white spaces\\n                    txt = txt.rstrip()\\n                    txt = txt.lstrip()\\n                    txt = txt.strip()\\n                    while \\\"  \\\" in txt:\\n                        txt = txt.replace(\\\"  \\\", \\\" \\\")\\n                    movie_reviews.append(txt)\\n\\n                sentiments.append(index)\\n\\n    return movie_reviews, np.array(sentiments)\";\n",
       "                var nbb_formatted_code = \"import numpy as np\\nimport re\\nimport nltk\\nimport contractions\\nfrom bs4 import BeautifulSoup\\n\\nnltk.download()\\n\\n\\ndef retrieve_reviews(data_folder=\\\"/train\\\"):\\n    movie_reviews = []\\n    before = []\\n    sentiments = []\\n    for s in (\\\"/test\\\", \\\"/train\\\"):\\n        for index, sentiment in enumerate([\\\"/neg/\\\", \\\"/pos/\\\"]):\\n            directory = movie_folder + s + sentiment\\n            for filename in sorted(os.listdir(directory)):\\n                with open(directory + filename, \\\"r\\\") as f:\\n                    txt = f.read()\\n                    before.append(txt)\\n                    txt = txt.lower()\\n                    txt = BeautifulSoup(txt, \\\"html.parser\\\").text\\n                    txt = replace_contraction(txt)\\n                    txt = re.sub(r\\\"[^a-z ]\\\", \\\"\\\", txt)\\n                    txt = re.sub(r\\\" +\\\", \\\" \\\", txt)\\n                    # remove extra white spaces\\n                    txt = txt.rstrip()\\n                    txt = txt.lstrip()\\n                    txt = txt.strip()\\n                    while \\\"  \\\" in txt:\\n                        txt = txt.replace(\\\"  \\\", \\\" \\\")\\n                    movie_reviews.append(txt)\\n\\n                sentiments.append(index)\\n\\n    return movie_reviews, np.array(sentiments)\";\n",
       "                var nbb_cells = Jupyter.notebook.get_cells();\n",
       "                for (var i = 0; i < nbb_cells.length; ++i) {\n",
       "                    if (nbb_cells[i].input_prompt_number == nbb_cell_id) {\n",
       "                        if (nbb_cells[i].get_text() == nbb_unformatted_code) {\n",
       "                             nbb_cells[i].set_text(nbb_formatted_code);\n",
       "                        }\n",
       "                        break;\n",
       "                    }\n",
       "                }\n",
       "            }, 500);\n",
       "            "
      ],
      "text/plain": [
       "<IPython.core.display.Javascript object>"
      ]
     },
     "metadata": {},
     "output_type": "display_data"
    }
   ],
   "source": [
    "import numpy as np\n",
    "import re\n",
    "import nltk\n",
    "import contractions\n",
    "from bs4 import BeautifulSoup\n",
    "\n",
    "nltk.download()\n",
    "\n",
    "\n",
    "def retrieve_reviews(data_folder=\"/train\"):\n",
    "    movie_reviews = []\n",
    "    before = []\n",
    "    sentiments = []\n",
    "    for s in (\"/test\", \"/train\"):\n",
    "        for index, sentiment in enumerate([\"/neg/\", \"/pos/\"]):\n",
    "            directory = movie_folder + s + sentiment\n",
    "            for filename in sorted(os.listdir(directory)):\n",
    "                with open(directory + filename, \"r\") as f:\n",
    "                    txt = f.read()\n",
    "                    before.append(txt)\n",
    "                    txt = txt.lower()\n",
    "                    txt = BeautifulSoup(txt, \"html.parser\").text\n",
    "                    txt = replace_contraction(txt)\n",
    "                    txt = re.sub(r\"[^a-z ]\", \"\", txt)\n",
    "                    txt = re.sub(r\" +\", \" \", txt)\n",
    "                    # remove extra white spaces\n",
    "                    txt = txt.rstrip()\n",
    "                    txt = txt.lstrip()\n",
    "                    txt = txt.strip()\n",
    "                    while \"  \" in txt:\n",
    "                        txt = txt.replace(\"  \", \" \")\n",
    "                    movie_reviews.append(txt)\n",
    "\n",
    "                sentiments.append(index)\n",
    "\n",
    "    return movie_reviews, np.array(sentiments)"
   ]
  },
  {
   "cell_type": "code",
   "execution_count": 5,
   "metadata": {
    "colab": {
     "base_uri": "https://localhost:8080/",
     "height": 88
    },
    "id": "vKFpk4IlFI2x",
    "outputId": "5c8ba0b4-07fd-4320-d6c3-455ae3bdfd94"
   },
   "outputs": [
    {
     "name": "stdout",
     "output_type": "stream",
     "text": [
      "50000\n",
      "['once again mr costner has dragged out a movie for far longer than necessary aside from the terrific sea rescue sequences of which there are very few i just did not care about any of the characters most of us have ghosts in the closet and costner is character are realized early on and then forgotten until much later by which time i did not care the character we should really care about is a very cocky overconfident ashton kutcher the problem is he comes off as kid who thinks he is better than anyone else around him and shows no signs of a cluttered closet his only obstacle appears to be winning over costner finally when we are well past the half way point of this stinker costner tells us all about kutcher is ghosts we are told why kutcher is driven to be the best with no prior inkling or foreshadowing no magic here it was all i could do to keep from turning it off an hour in', 'this is an example of why the majority of action films are the same generic and boring there is really nothing worth watching here a complete waste of the then barely tapped talents of ice t and ice cube who have each proven many times over that they are capable of acting and acting well do not bother with this one go see new jack city ricochet or watch new york undercover for ice t or boyz n the hood higher learning or friday for ice cube and see the real deal ice t is horribly cliched dialogue alone makes this film grate at the teeth and i am still wondering what the heck bill paxton was doing in this film and why the heck does he always play the exact same character from aliens onward every film i have seen with bill paxton has him playing the exact same irritating character and at least in aliens his character died which made it somewhat gratifying overall this is second rate action trash there are countless better films to see and if you really want to see this one watch judgement night which is practically a carbon copy but has better acting and a better script the only thing that made this at all worth watching was a decent hand on the camera the cinematography was almost refreshing which comes close to making up for the horrible film itself but not quite', 'first of all i hate those moronic rappers who could nt act if they had a gun pressed against their foreheads all they do is curse and shoot each other and acting like clich e version of gangsters the movie does not take more than five minutes to explain what is going on before we are already at the warehouse there is not a single sympathetic character in this movie except for the homeless guy who is also the only one with half a ain bill paxton and william sadler are both hill billies and sadlers character is just as much a villain as the gangsters i did nt like him right from the start the movie is filled with pointless violence and walter hills specialty people falling through windows with glass flying everywhere there is pretty much no plot and it is a big problem when you root for no one everybody dies except from paxton and the homeless guy and everybody get what they deserve the only two black people that can act is the homeless guy and the junkie but they are actors by profession not annoying ugly ain dead rappers stay away from this crap and watch hours and instead at lest they have characters you care about a sense of humor and nothing but real actors in the cast', 'not even the beatles could write songs everyone liked and although walter hill is no mop top he is second to none when it comes to thought provoking action movies the nineties came and social platforms were changing in music and film the emergence of the rapper turned movie star was in full swing the acting took a back seat to each man is overpowering regional accent and transparent acting this was one of the many ice t movies i saw as a kid and loved only to watch them later and cringe bill paxton and william sadler are firemen with basic lives until a burning building tenant about to go up in flames hands over a map with gold implications i hand it to walter for quickly and neatly setting up the main characters and location but i fault everyone involved for turning out lame o performances ice t and cube must have been red hot at this time and while i have enjoyed both their careers as rappers in my opinion they fell flat in this movie it is about ninety minutes of one guy ridiculously turning his back on the other guy to the point you find yourself locked in multiple states of disbelief now this is a movie its not a documentary so i will not waste my time recounting all the stupid plot twists in this movie but there were many and they led nowhere i got the feeling watching this that everyone on set was sord of confused and just playing things off the cuff there are two things i still enjoy about it one involves a scene with a needle and the other is sadler is huge pistol bottom line this movie is like domino is pizza yeah ill eat it if i am hungry and i do not feel like cooking but i am well aware it tastes like crap stars meh', 'ass pictures movies is not a fitting word for them really are somewhat assy their alluring visual qualities are reminiscent of expensive high class tv commercials but unfortunately ass pictures are feature films with the pretense of wanting to entertain viewers for over two hours in this they fail miserably their undeniable but rather soft and flabby than steamy erotic qualities non withstanding senso is a remake of a film by luchino visconti with the same title and alida valli and farley granger in the lead the original tells a story of senseless love and lust in and around venice during the italian wars of independence ass moved the action from the th into the th century to be exact so there are mussolini murals men in black shirts german uniforms or the tattered garb of the partisans but it is just window dressing the historic context is completely negligible anna galiena plays the attractive aristocratic woman who falls for the amoral ss guy who always puts on too much lipstick she is an attractive versatile well trained italian actress and clearly above the material her wide range of facial expressions signalling boredom loathing delight fear hate and ecstasy are the best reason to watch this picture and worth two stars she endures this basically trashy stuff with an astonishing amount of dignity i wish some really good parts come along for her she really deserves it', 'a funny thing happened to me while watching mosquito on the one hand the hero is a deaf mute and the director is totally unable to make us understand why he does what he does mutilating mannequins er excuse me corpses through his images on the other hand the english version at least is very badly dubbed so i found myself wishing there had been both more and less dialogue at the same time this film is stupid funny how this guy has access to every graveyard and mortuary in his town and lurid where would we be in a s exploitationer without our gratuitous lesbian scene not to mention the romantic aspect oh how sweet miss it', 'this german horror film has to be one of the weirdest i have seen i was not aware of any connection between child abuse and vampirism but this is supposed based upon a true character our hero is deaf and mute as a result of repeated beatings at the hands of his father he also has a doll fetish but i cannot figure out where that came from his co workers find out and tease him terribly during the day a mild manner accountant and at night he eaks into cemeteries and funeral homes and drinks the blood of dead girls they are all attractive of course else we would not care about the fact that he usually tears their clothing down to the waist he graduates eventually to actually killing and that is what gets him caught like i said a very strange movie that is dark and very slow as werner pochath never talks and just spends his time drinking blood', 'being a long time fan of japanese film i expected more than this i can not really be bothered to write to much as this movie is just so poor the story might be the cutest romantic little something ever pity i could not stand the awful acting the mess they called pacing and the standard quirky japanese story if you have noticed how many japanese movies use characters plots and twists that seem too different forcedly so then steer clear of this movie seriously a year old could have told you how this movie was going to move along and that is not a good thing in my book fans of beat takeshi his part in this movie is not really more than a cameo and unless you are a rabid fan you do not need to suffer through this waste of film', 'tokyo eyes tells of a year old japanese girl who falls in like with a man being hunted by her big o who is a cop this lame flick is about filler and talk talk and more talk you will get to see the less than stellar cast of three as they talk on the bus talk and play video games talk and get a haircut talk and walk and walk and talk talk on cell phones hang out and talk etc as you read subtitles waiting for something to happen the thin wisp of a story is not sufficient to support a film with low end production value a meager cast and no action no romance no sex or nudity no heavy drama just incessant yadayadayada ing c', 'wealthy horse ranchers in buenos aires have a long standing no trading policy with the crawfords of manhattan but what happens when the mustachioed latin son falls for a certain crawford with ight eyes blonde hair and some perky moves on the dance floor th century fox musical has a glossy veneer yet seems a bit tatty around the edges it is very heavy on the frenetic gymnastic like dancing exceedingly thin on story betty grable an eleventh hour replacement for alice faye gives it a boost even though she is paired with leaden don ameche in tan make up and slick hair also good charlotte greenwood as betty is pithy aunt a limousine driver who is constantly asleep on the job and carmen miranda playing herself who else the stock shots of argentina far outclass the action filmed on the fox backlot and some of the supporting performances are quite awful by the time of the big horserace finale most viewers will have had enough from', 'cage plays a drunk and gets high critically praise elizabeth shue actually has to do a love seen with the most unattractive and overrated piece of dung flesh in hollywood i literally vomited while watching this film of course i had the flu but that does not mean this film did not contribute to the vomit in the kamode why can not nick cage play something he can really pull off like a bad actor nick cage who be illiant in a role as a bad actor heck nobody could do it better the search begins for nick is contract with lucifer or was it lou cipher from night train to terror']\n",
      "[0 0 0 0 0 0 0 0 0 0 0]\n"
     ]
    },
    {
     "data": {
      "application/javascript": [
       "\n",
       "            setTimeout(function() {\n",
       "                var nbb_cell_id = 5;\n",
       "                var nbb_unformatted_code = \"training_reviews, training_labels = retrieve_reviews()\\nprint(len(training_reviews))\\nprint(training_reviews[0:11])\\nprint(training_labels[0:11])\";\n",
       "                var nbb_formatted_code = \"training_reviews, training_labels = retrieve_reviews()\\nprint(len(training_reviews))\\nprint(training_reviews[0:11])\\nprint(training_labels[0:11])\";\n",
       "                var nbb_cells = Jupyter.notebook.get_cells();\n",
       "                for (var i = 0; i < nbb_cells.length; ++i) {\n",
       "                    if (nbb_cells[i].input_prompt_number == nbb_cell_id) {\n",
       "                        if (nbb_cells[i].get_text() == nbb_unformatted_code) {\n",
       "                             nbb_cells[i].set_text(nbb_formatted_code);\n",
       "                        }\n",
       "                        break;\n",
       "                    }\n",
       "                }\n",
       "            }, 500);\n",
       "            "
      ],
      "text/plain": [
       "<IPython.core.display.Javascript object>"
      ]
     },
     "metadata": {},
     "output_type": "display_data"
    }
   ],
   "source": [
    "training_reviews, training_labels = retrieve_reviews()\n",
    "print(len(training_reviews))\n",
    "print(training_reviews[0:11])\n",
    "print(training_labels[0:11])"
   ]
  },
  {
   "cell_type": "code",
   "execution_count": 6,
   "metadata": {
    "colab": {
     "base_uri": "https://localhost:8080/",
     "height": 51
    },
    "id": "EpfJHSNQt8yg",
    "outputId": "09b4f73b-6fad-4518-90f6-2e3c193aca58"
   },
   "outputs": [
    {
     "name": "stdout",
     "output_type": "stream",
     "text": [
      "Mean 234.30 words (173.727442)\n"
     ]
    },
    {
     "data": {
      "application/javascript": [
       "\n",
       "            setTimeout(function() {\n",
       "                var nbb_cell_id = 6;\n",
       "                var nbb_unformatted_code = \"result = [len(x.split(\\\" \\\")) for x in training_reviews]\\nprint(\\\"Mean %.2f words (%f)\\\" % (np.mean(result), np.std(result)))\";\n",
       "                var nbb_formatted_code = \"result = [len(x.split(\\\" \\\")) for x in training_reviews]\\nprint(\\\"Mean %.2f words (%f)\\\" % (np.mean(result), np.std(result)))\";\n",
       "                var nbb_cells = Jupyter.notebook.get_cells();\n",
       "                for (var i = 0; i < nbb_cells.length; ++i) {\n",
       "                    if (nbb_cells[i].input_prompt_number == nbb_cell_id) {\n",
       "                        if (nbb_cells[i].get_text() == nbb_unformatted_code) {\n",
       "                             nbb_cells[i].set_text(nbb_formatted_code);\n",
       "                        }\n",
       "                        break;\n",
       "                    }\n",
       "                }\n",
       "            }, 500);\n",
       "            "
      ],
      "text/plain": [
       "<IPython.core.display.Javascript object>"
      ]
     },
     "metadata": {},
     "output_type": "display_data"
    }
   ],
   "source": [
    "result = [len(x.split(\" \")) for x in training_reviews]\n",
    "print(\"Mean %.2f words (%f)\" % (np.mean(result), np.std(result)))"
   ]
  },
  {
   "cell_type": "code",
   "execution_count": 7,
   "metadata": {},
   "outputs": [
    {
     "data": {
      "application/javascript": [
       "\n",
       "            setTimeout(function() {\n",
       "                var nbb_cell_id = 7;\n",
       "                var nbb_unformatted_code = \"movie_df = pd.DataFrame()\\nmovie_df[\\\"review\\\"] = training_reviews\\nmovie_df[\\\"sentiment\\\"] = training_labels\";\n",
       "                var nbb_formatted_code = \"movie_df = pd.DataFrame()\\nmovie_df[\\\"review\\\"] = training_reviews\\nmovie_df[\\\"sentiment\\\"] = training_labels\";\n",
       "                var nbb_cells = Jupyter.notebook.get_cells();\n",
       "                for (var i = 0; i < nbb_cells.length; ++i) {\n",
       "                    if (nbb_cells[i].input_prompt_number == nbb_cell_id) {\n",
       "                        if (nbb_cells[i].get_text() == nbb_unformatted_code) {\n",
       "                             nbb_cells[i].set_text(nbb_formatted_code);\n",
       "                        }\n",
       "                        break;\n",
       "                    }\n",
       "                }\n",
       "            }, 500);\n",
       "            "
      ],
      "text/plain": [
       "<IPython.core.display.Javascript object>"
      ]
     },
     "metadata": {},
     "output_type": "display_data"
    }
   ],
   "source": [
    "movie_df = pd.DataFrame()\n",
    "movie_df[\"review\"] = training_reviews\n",
    "movie_df[\"sentiment\"] = training_labels"
   ]
  },
  {
   "cell_type": "code",
   "execution_count": 8,
   "metadata": {},
   "outputs": [
    {
     "data": {
      "application/javascript": [
       "\n",
       "            setTimeout(function() {\n",
       "                var nbb_cell_id = 8;\n",
       "                var nbb_unformatted_code = \"import matplotlib.pyplot as plt\\nimport seaborn as sns\\n\\nmovie_df[\\\"count\\\"] = result\\n\\n\\ndef stats_of_freq_distribution(freq_column):\\n    print(\\\"MEAN length of data set :\\\", np.mean(freq_column))\\n    print(\\\"MEDIAN length of data set :\\\", np.median(freq_column))\\n    print(\\\"STD DEV length of data set :\\\", np.std(freq_column))\\n    print(\\\"MAX token of data set :\\\", np.max(freq_column))\\n    print(\\\"MIN token of data set :\\\", np.min(freq_column))\\n\\n\\ndef plot_length_distribution(freq_column):\\n    plt.hist(freq_column, bins=50)\\n    plt.xlabel(\\\"Length of a sample\\\")\\n    plt.ylabel(\\\"Number of samples\\\")\\n    plt.title(\\\"Sample length distribution\\\")\\n    plt.show()\";\n",
       "                var nbb_formatted_code = \"import matplotlib.pyplot as plt\\nimport seaborn as sns\\n\\nmovie_df[\\\"count\\\"] = result\\n\\n\\ndef stats_of_freq_distribution(freq_column):\\n    print(\\\"MEAN length of data set :\\\", np.mean(freq_column))\\n    print(\\\"MEDIAN length of data set :\\\", np.median(freq_column))\\n    print(\\\"STD DEV length of data set :\\\", np.std(freq_column))\\n    print(\\\"MAX token of data set :\\\", np.max(freq_column))\\n    print(\\\"MIN token of data set :\\\", np.min(freq_column))\\n\\n\\ndef plot_length_distribution(freq_column):\\n    plt.hist(freq_column, bins=50)\\n    plt.xlabel(\\\"Length of a sample\\\")\\n    plt.ylabel(\\\"Number of samples\\\")\\n    plt.title(\\\"Sample length distribution\\\")\\n    plt.show()\";\n",
       "                var nbb_cells = Jupyter.notebook.get_cells();\n",
       "                for (var i = 0; i < nbb_cells.length; ++i) {\n",
       "                    if (nbb_cells[i].input_prompt_number == nbb_cell_id) {\n",
       "                        if (nbb_cells[i].get_text() == nbb_unformatted_code) {\n",
       "                             nbb_cells[i].set_text(nbb_formatted_code);\n",
       "                        }\n",
       "                        break;\n",
       "                    }\n",
       "                }\n",
       "            }, 500);\n",
       "            "
      ],
      "text/plain": [
       "<IPython.core.display.Javascript object>"
      ]
     },
     "metadata": {},
     "output_type": "display_data"
    }
   ],
   "source": [
    "import matplotlib.pyplot as plt\n",
    "import seaborn as sns\n",
    "\n",
    "movie_df[\"count\"] = result\n",
    "\n",
    "\n",
    "def stats_of_freq_distribution(freq_column):\n",
    "    print(\"MEAN length of data set :\", np.mean(freq_column))\n",
    "    print(\"MEDIAN length of data set :\", np.median(freq_column))\n",
    "    print(\"STD DEV length of data set :\", np.std(freq_column))\n",
    "    print(\"MAX token of data set :\", np.max(freq_column))\n",
    "    print(\"MIN token of data set :\", np.min(freq_column))\n",
    "\n",
    "\n",
    "def plot_length_distribution(freq_column):\n",
    "    plt.hist(freq_column, bins=50)\n",
    "    plt.xlabel(\"Length of a sample\")\n",
    "    plt.ylabel(\"Number of samples\")\n",
    "    plt.title(\"Sample length distribution\")\n",
    "    plt.show()"
   ]
  },
  {
   "cell_type": "code",
   "execution_count": 9,
   "metadata": {
    "colab": {
     "base_uri": "https://localhost:8080/",
     "height": 17
    },
    "id": "W1LmD_7dFI2z",
    "outputId": "68840691-edd7-4faf-8719-477f8ddc5bf1"
   },
   "outputs": [
    {
     "data": {
      "image/png": "[encoded data removed]",
      "text/plain": [
       "<Figure size 432x288 with 1 Axes>"
      ]
     },
     "metadata": {
      "needs_background": "light"
     },
     "output_type": "display_data"
    },
    {
     "data": {
      "application/javascript": [
       "\n",
       "            setTimeout(function() {\n",
       "                var nbb_cell_id = 9;\n",
       "                var nbb_unformatted_code = \"plot_length_distribution(movie_df[\\\"count\\\"])\";\n",
       "                var nbb_formatted_code = \"plot_length_distribution(movie_df[\\\"count\\\"])\";\n",
       "                var nbb_cells = Jupyter.notebook.get_cells();\n",
       "                for (var i = 0; i < nbb_cells.length; ++i) {\n",
       "                    if (nbb_cells[i].input_prompt_number == nbb_cell_id) {\n",
       "                        if (nbb_cells[i].get_text() == nbb_unformatted_code) {\n",
       "                             nbb_cells[i].set_text(nbb_formatted_code);\n",
       "                        }\n",
       "                        break;\n",
       "                    }\n",
       "                }\n",
       "            }, 500);\n",
       "            "
      ],
      "text/plain": [
       "<IPython.core.display.Javascript object>"
      ]
     },
     "metadata": {},
     "output_type": "display_data"
    }
   ],
   "source": [
    "plot_length_distribution(movie_df[\"count\"])\n"
   ]
  },
  {
   "cell_type": "code",
   "execution_count": 10,
   "metadata": {},
   "outputs": [
    {
     "name": "stdout",
     "output_type": "stream",
     "text": [
      "MEAN length of data set : 234.29894\n",
      "MEDIAN length of data set : 176.0\n",
      "STD DEV length of data set : 173.72744208925772\n",
      "MAX token of data set : 2486\n",
      "MIN token of data set : 6\n"
     ]
    },
    {
     "data": {
      "application/javascript": [
       "\n",
       "            setTimeout(function() {\n",
       "                var nbb_cell_id = 10;\n",
       "                var nbb_unformatted_code = \"# mean length of data set\\nstats_of_freq_distribution(movie_df[\\\"count\\\"])\";\n",
       "                var nbb_formatted_code = \"# mean length of data set\\nstats_of_freq_distribution(movie_df[\\\"count\\\"])\";\n",
       "                var nbb_cells = Jupyter.notebook.get_cells();\n",
       "                for (var i = 0; i < nbb_cells.length; ++i) {\n",
       "                    if (nbb_cells[i].input_prompt_number == nbb_cell_id) {\n",
       "                        if (nbb_cells[i].get_text() == nbb_unformatted_code) {\n",
       "                             nbb_cells[i].set_text(nbb_formatted_code);\n",
       "                        }\n",
       "                        break;\n",
       "                    }\n",
       "                }\n",
       "            }, 500);\n",
       "            "
      ],
      "text/plain": [
       "<IPython.core.display.Javascript object>"
      ]
     },
     "metadata": {},
     "output_type": "display_data"
    }
   ],
   "source": [
    "# mean length of data set\n",
    "stats_of_freq_distribution(movie_df[\"count\"])"
   ]
  },
  {
   "cell_type": "code",
   "execution_count": 11,
   "metadata": {
    "colab": {
     "base_uri": "https://localhost:8080/",
     "height": 235
    },
    "id": "0PNlwcUtFI20",
    "outputId": "d78f6a22-59fc-4e2b-92dd-7988c71a0e9e"
   },
   "outputs": [
    {
     "data": {
      "text/html": [
       "<div>\n",
       "<style scoped>\n",
       "    .dataframe tbody tr th:only-of-type {\n",
       "        vertical-align: middle;\n",
       "    }\n",
       "\n",
       "    .dataframe tbody tr th {\n",
       "        vertical-align: top;\n",
       "    }\n",
       "\n",
       "    .dataframe thead th {\n",
       "        text-align: right;\n",
       "    }\n",
       "</style>\n",
       "<table border=\"1\" class=\"dataframe\">\n",
       "  <thead>\n",
       "    <tr style=\"text-align: right;\">\n",
       "      <th></th>\n",
       "      <th>review</th>\n",
       "      <th>sentiment</th>\n",
       "      <th>count</th>\n",
       "    </tr>\n",
       "  </thead>\n",
       "  <tbody>\n",
       "    <tr>\n",
       "      <th>0</th>\n",
       "      <td>once again mr costner has dragged out a movie ...</td>\n",
       "      <td>0</td>\n",
       "      <td>171</td>\n",
       "    </tr>\n",
       "    <tr>\n",
       "      <th>1</th>\n",
       "      <td>this is an example of why the majority of acti...</td>\n",
       "      <td>0</td>\n",
       "      <td>241</td>\n",
       "    </tr>\n",
       "    <tr>\n",
       "      <th>2</th>\n",
       "      <td>first of all i hate those moronic rappers who ...</td>\n",
       "      <td>0</td>\n",
       "      <td>224</td>\n",
       "    </tr>\n",
       "    <tr>\n",
       "      <th>3</th>\n",
       "      <td>not even the beatles could write songs everyon...</td>\n",
       "      <td>0</td>\n",
       "      <td>320</td>\n",
       "    </tr>\n",
       "    <tr>\n",
       "      <th>4</th>\n",
       "      <td>ass pictures movies is not a fitting word for ...</td>\n",
       "      <td>0</td>\n",
       "      <td>237</td>\n",
       "    </tr>\n",
       "    <tr>\n",
       "      <th>5</th>\n",
       "      <td>a funny thing happened to me while watching mo...</td>\n",
       "      <td>0</td>\n",
       "      <td>118</td>\n",
       "    </tr>\n",
       "  </tbody>\n",
       "</table>\n",
       "</div>"
      ],
      "text/plain": [
       "                                              review  sentiment  count\n",
       "0  once again mr costner has dragged out a movie ...          0    171\n",
       "1  this is an example of why the majority of acti...          0    241\n",
       "2  first of all i hate those moronic rappers who ...          0    224\n",
       "3  not even the beatles could write songs everyon...          0    320\n",
       "4  ass pictures movies is not a fitting word for ...          0    237\n",
       "5  a funny thing happened to me while watching mo...          0    118"
      ]
     },
     "execution_count": 11,
     "metadata": {},
     "output_type": "execute_result"
    },
    {
     "data": {
      "application/javascript": [
       "\n",
       "            setTimeout(function() {\n",
       "                var nbb_cell_id = 11;\n",
       "                var nbb_unformatted_code = \"movie_df.head(6)\";\n",
       "                var nbb_formatted_code = \"movie_df.head(6)\";\n",
       "                var nbb_cells = Jupyter.notebook.get_cells();\n",
       "                for (var i = 0; i < nbb_cells.length; ++i) {\n",
       "                    if (nbb_cells[i].input_prompt_number == nbb_cell_id) {\n",
       "                        if (nbb_cells[i].get_text() == nbb_unformatted_code) {\n",
       "                             nbb_cells[i].set_text(nbb_formatted_code);\n",
       "                        }\n",
       "                        break;\n",
       "                    }\n",
       "                }\n",
       "            }, 500);\n",
       "            "
      ],
      "text/plain": [
       "<IPython.core.display.Javascript object>"
      ]
     },
     "metadata": {},
     "output_type": "display_data"
    }
   ],
   "source": [
    "movie_df.head(6)"
   ]
  },
  {
   "cell_type": "code",
   "execution_count": 12,
   "metadata": {
    "colab": {
     "base_uri": "https://localhost:8080/",
     "height": 17
    },
    "id": "uhX_VW90FI21",
    "outputId": "10bdef6a-8993-419e-a9df-770e68542866"
   },
   "outputs": [
    {
     "data": {
      "application/javascript": [
       "\n",
       "            setTimeout(function() {\n",
       "                var nbb_cell_id = 12;\n",
       "                var nbb_unformatted_code = \"import numpy as np\\n\\nnp.random.seed(0)\\nmovie_df = movie_df.reindex(np.random.permutation(movie_df.index))\\nmovie_df.to_csv(\\\"movie.csv\\\", index=False, encoding=\\\"utf-8\\\")\";\n",
       "                var nbb_formatted_code = \"import numpy as np\\n\\nnp.random.seed(0)\\nmovie_df = movie_df.reindex(np.random.permutation(movie_df.index))\\nmovie_df.to_csv(\\\"movie.csv\\\", index=False, encoding=\\\"utf-8\\\")\";\n",
       "                var nbb_cells = Jupyter.notebook.get_cells();\n",
       "                for (var i = 0; i < nbb_cells.length; ++i) {\n",
       "                    if (nbb_cells[i].input_prompt_number == nbb_cell_id) {\n",
       "                        if (nbb_cells[i].get_text() == nbb_unformatted_code) {\n",
       "                             nbb_cells[i].set_text(nbb_formatted_code);\n",
       "                        }\n",
       "                        break;\n",
       "                    }\n",
       "                }\n",
       "            }, 500);\n",
       "            "
      ],
      "text/plain": [
       "<IPython.core.display.Javascript object>"
      ]
     },
     "metadata": {},
     "output_type": "display_data"
    }
   ],
   "source": [
    "import numpy as np\n",
    "\n",
    "np.random.seed(0)\n",
    "movie_df = movie_df.reindex(np.random.permutation(movie_df.index))\n",
    "movie_df.to_csv(\"movie.csv\", index=False, encoding=\"utf-8\")"
   ]
  },
  {
   "cell_type": "code",
   "execution_count": 13,
   "metadata": {
    "colab": {
     "base_uri": "https://localhost:8080/",
     "height": 17
    },
    "id": "SFxOPCPWFI23",
    "outputId": "73094035-ea2e-4f09-8110-0329dc2152ab"
   },
   "outputs": [
    {
     "data": {
      "application/javascript": [
       "\n",
       "            setTimeout(function() {\n",
       "                var nbb_cell_id = 13;\n",
       "                var nbb_unformatted_code = \"import pandas as pd\\n\\nmovie_df = pd.read_csv(\\\"movie.csv\\\", encoding=\\\"utf-8\\\")\";\n",
       "                var nbb_formatted_code = \"import pandas as pd\\n\\nmovie_df = pd.read_csv(\\\"movie.csv\\\", encoding=\\\"utf-8\\\")\";\n",
       "                var nbb_cells = Jupyter.notebook.get_cells();\n",
       "                for (var i = 0; i < nbb_cells.length; ++i) {\n",
       "                    if (nbb_cells[i].input_prompt_number == nbb_cell_id) {\n",
       "                        if (nbb_cells[i].get_text() == nbb_unformatted_code) {\n",
       "                             nbb_cells[i].set_text(nbb_formatted_code);\n",
       "                        }\n",
       "                        break;\n",
       "                    }\n",
       "                }\n",
       "            }, 500);\n",
       "            "
      ],
      "text/plain": [
       "<IPython.core.display.Javascript object>"
      ]
     },
     "metadata": {},
     "output_type": "display_data"
    }
   ],
   "source": [
    "import pandas as pd\n",
    "\n",
    "movie_df = pd.read_csv(\"movie.csv\", encoding=\"utf-8\")"
   ]
  },
  {
   "cell_type": "code",
   "execution_count": 14,
   "metadata": {
    "colab": {
     "base_uri": "https://localhost:8080/",
     "height": 235
    },
    "id": "n7T_3d21FI25",
    "outputId": "505a1ddd-c9f1-4f05-cc9b-20ce6bc57bba"
   },
   "outputs": [
    {
     "data": {
      "text/html": [
       "<div>\n",
       "<style scoped>\n",
       "    .dataframe tbody tr th:only-of-type {\n",
       "        vertical-align: middle;\n",
       "    }\n",
       "\n",
       "    .dataframe tbody tr th {\n",
       "        vertical-align: top;\n",
       "    }\n",
       "\n",
       "    .dataframe thead th {\n",
       "        text-align: right;\n",
       "    }\n",
       "</style>\n",
       "<table border=\"1\" class=\"dataframe\">\n",
       "  <thead>\n",
       "    <tr style=\"text-align: right;\">\n",
       "      <th></th>\n",
       "      <th>review</th>\n",
       "      <th>sentiment</th>\n",
       "      <th>count</th>\n",
       "    </tr>\n",
       "  </thead>\n",
       "  <tbody>\n",
       "    <tr>\n",
       "      <th>0</th>\n",
       "      <td>al pacino was once an actor capable of making ...</td>\n",
       "      <td>0</td>\n",
       "      <td>170</td>\n",
       "    </tr>\n",
       "    <tr>\n",
       "      <th>1</th>\n",
       "      <td>if you read the book by carl hiaasen the movie...</td>\n",
       "      <td>1</td>\n",
       "      <td>286</td>\n",
       "    </tr>\n",
       "    <tr>\n",
       "      <th>2</th>\n",
       "      <td>this movie is sort of a carrie meets heavy met...</td>\n",
       "      <td>1</td>\n",
       "      <td>68</td>\n",
       "    </tr>\n",
       "    <tr>\n",
       "      <th>3</th>\n",
       "      <td>this movie was like a bad indie with a list ta...</td>\n",
       "      <td>0</td>\n",
       "      <td>124</td>\n",
       "    </tr>\n",
       "    <tr>\n",
       "      <th>4</th>\n",
       "      <td>in the s charlton heston starred in sci fi fli...</td>\n",
       "      <td>1</td>\n",
       "      <td>114</td>\n",
       "    </tr>\n",
       "    <tr>\n",
       "      <th>5</th>\n",
       "      <td>turned out to be another failed attempt by the...</td>\n",
       "      <td>0</td>\n",
       "      <td>227</td>\n",
       "    </tr>\n",
       "  </tbody>\n",
       "</table>\n",
       "</div>"
      ],
      "text/plain": [
       "                                              review  sentiment  count\n",
       "0  al pacino was once an actor capable of making ...          0    170\n",
       "1  if you read the book by carl hiaasen the movie...          1    286\n",
       "2  this movie is sort of a carrie meets heavy met...          1     68\n",
       "3  this movie was like a bad indie with a list ta...          0    124\n",
       "4  in the s charlton heston starred in sci fi fli...          1    114\n",
       "5  turned out to be another failed attempt by the...          0    227"
      ]
     },
     "execution_count": 14,
     "metadata": {},
     "output_type": "execute_result"
    },
    {
     "data": {
      "application/javascript": [
       "\n",
       "            setTimeout(function() {\n",
       "                var nbb_cell_id = 14;\n",
       "                var nbb_unformatted_code = \"movie_df.head(6)\";\n",
       "                var nbb_formatted_code = \"movie_df.head(6)\";\n",
       "                var nbb_cells = Jupyter.notebook.get_cells();\n",
       "                for (var i = 0; i < nbb_cells.length; ++i) {\n",
       "                    if (nbb_cells[i].input_prompt_number == nbb_cell_id) {\n",
       "                        if (nbb_cells[i].get_text() == nbb_unformatted_code) {\n",
       "                             nbb_cells[i].set_text(nbb_formatted_code);\n",
       "                        }\n",
       "                        break;\n",
       "                    }\n",
       "                }\n",
       "            }, 500);\n",
       "            "
      ],
      "text/plain": [
       "<IPython.core.display.Javascript object>"
      ]
     },
     "metadata": {},
     "output_type": "display_data"
    }
   ],
   "source": [
    "movie_df.head(6)"
   ]
  },
  {
   "cell_type": "code",
   "execution_count": 15,
   "metadata": {
    "colab": {
     "base_uri": "https://localhost:8080/",
     "height": 299
    },
    "id": "uEsgYYo6wAXV",
    "outputId": "74be4ecb-13f7-49a3-eb36-100319414c82"
   },
   "outputs": [
    {
     "data": {
      "image/png": "[encoded data removed]",
      "text/plain": [
       "<Figure size 432x288 with 1 Axes>"
      ]
     },
     "metadata": {
      "needs_background": "light"
     },
     "output_type": "display_data"
    },
    {
     "data": {
      "application/javascript": [
       "\n",
       "            setTimeout(function() {\n",
       "                var nbb_cell_id = 15;\n",
       "                var nbb_unformatted_code = \"plt.boxplot(result)\\nplt.show()\";\n",
       "                var nbb_formatted_code = \"plt.boxplot(result)\\nplt.show()\";\n",
       "                var nbb_cells = Jupyter.notebook.get_cells();\n",
       "                for (var i = 0; i < nbb_cells.length; ++i) {\n",
       "                    if (nbb_cells[i].input_prompt_number == nbb_cell_id) {\n",
       "                        if (nbb_cells[i].get_text() == nbb_unformatted_code) {\n",
       "                             nbb_cells[i].set_text(nbb_formatted_code);\n",
       "                        }\n",
       "                        break;\n",
       "                    }\n",
       "                }\n",
       "            }, 500);\n",
       "            "
      ],
      "text/plain": [
       "<IPython.core.display.Javascript object>"
      ]
     },
     "metadata": {},
     "output_type": "display_data"
    }
   ],
   "source": [
    "plt.boxplot(result)\n",
    "plt.show()"
   ]
  },
  {
   "cell_type": "code",
   "execution_count": null,
   "metadata": {},
   "outputs": [],
   "source": []
  }
 ],
 "metadata": {
  "colab": {
   "collapsed_sections": [],
   "name": "6_baseline_models_glove-Copy2-3.ipynb",
   "provenance": []
  },
  "kernelspec": {
   "display_name": "Python 3 (ipykernel)",
   "language": "python",
   "name": "python3"
  },
  "language_info": {
   "codemirror_mode": {
    "name": "ipython",
    "version": 3
   },
   "file_extension": ".py",
   "mimetype": "text/x-python",
   "name": "python",
   "nbconvert_exporter": "python",
   "pygments_lexer": "ipython3",
   "version": "3.9.6"
  }
 },
 "nbformat": 4,
 "nbformat_minor": 1
}
